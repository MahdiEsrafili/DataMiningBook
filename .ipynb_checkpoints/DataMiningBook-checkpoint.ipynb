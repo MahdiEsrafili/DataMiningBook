{
 "cells": [
  {
   "cell_type": "code",
   "execution_count": 1,
   "metadata": {},
   "outputs": [],
   "source": [
    "import pandas as pd\n",
    "import re\n",
    "from sklearn.preprocessing import MinMaxScaler\n",
    "import numpy as np\n",
    "from queue import PriorityQueue\n",
    "import math"
   ]
  },
  {
   "cell_type": "code",
   "execution_count": 7,
   "metadata": {},
   "outputs": [],
   "source": [
    "data = pd.read_csv('dogs.csv', sep = ',')"
   ]
  },
  {
   "cell_type": "code",
   "execution_count": 8,
   "metadata": {},
   "outputs": [
    {
     "data": {
      "text/plain": [
       "(11, 3)"
      ]
     },
     "execution_count": 8,
     "metadata": {},
     "output_type": "execute_result"
    }
   ],
   "source": [
    "data.shape"
   ]
  },
  {
   "cell_type": "code",
   "execution_count": 9,
   "metadata": {},
   "outputs": [],
   "source": [
    "height = np.array(data['height (inches)'])"
   ]
  },
  {
   "cell_type": "code",
   "execution_count": 10,
   "metadata": {},
   "outputs": [
    {
     "data": {
      "text/plain": [
       "array([[20],\n",
       "       [16],\n",
       "       [18],\n",
       "       [27],\n",
       "       [ 8],\n",
       "       [25],\n",
       "       [23],\n",
       "       [32],\n",
       "       [21],\n",
       "       [19],\n",
       "       [ 6]], dtype=int64)"
      ]
     },
     "execution_count": 10,
     "metadata": {},
     "output_type": "execute_result"
    }
   ],
   "source": [
    "height.reshape([-1,1])"
   ]
  },
  {
   "cell_type": "code",
   "execution_count": 11,
   "metadata": {},
   "outputs": [],
   "source": [
    "normalizer = MinMaxScaler()\n",
    "norm_height = normalizer.fit_transform(height.reshape([-1,1]))"
   ]
  },
  {
   "cell_type": "code",
   "execution_count": 12,
   "metadata": {},
   "outputs": [],
   "source": [
    "data['height (inches)'] = norm_height[:,0]"
   ]
  },
  {
   "cell_type": "code",
   "execution_count": 13,
   "metadata": {},
   "outputs": [],
   "source": [
    "weight= data['weight (pounds)']\n",
    "weight= np.array(weight)\n",
    "weight = weight.reshape([-1,1])\n",
    "weight = normalizer.fit_transform(weight)\n",
    "data['weight (pounds)'] = weight[:,0]"
   ]
  },
  {
   "cell_type": "code",
   "execution_count": 14,
   "metadata": {},
   "outputs": [
    {
     "data": {
      "text/html": [
       "<div>\n",
       "<style scoped>\n",
       "    .dataframe tbody tr th:only-of-type {\n",
       "        vertical-align: middle;\n",
       "    }\n",
       "\n",
       "    .dataframe tbody tr th {\n",
       "        vertical-align: top;\n",
       "    }\n",
       "\n",
       "    .dataframe thead th {\n",
       "        text-align: right;\n",
       "    }\n",
       "</style>\n",
       "<table border=\"1\" class=\"dataframe\">\n",
       "  <thead>\n",
       "    <tr style=\"text-align: right;\">\n",
       "      <th></th>\n",
       "      <th>breed</th>\n",
       "      <th>height (inches)</th>\n",
       "      <th>weight (pounds)</th>\n",
       "    </tr>\n",
       "  </thead>\n",
       "  <tbody>\n",
       "    <tr>\n",
       "      <th>0</th>\n",
       "      <td>Border Collie</td>\n",
       "      <td>0.538462</td>\n",
       "      <td>0.248366</td>\n",
       "    </tr>\n",
       "    <tr>\n",
       "      <th>1</th>\n",
       "      <td>Boston Terrier</td>\n",
       "      <td>0.384615</td>\n",
       "      <td>0.084967</td>\n",
       "    </tr>\n",
       "    <tr>\n",
       "      <th>2</th>\n",
       "      <td>Brittany Spaniel</td>\n",
       "      <td>0.461538</td>\n",
       "      <td>0.183007</td>\n",
       "    </tr>\n",
       "    <tr>\n",
       "      <th>3</th>\n",
       "      <td>Bullmastiff</td>\n",
       "      <td>0.807692</td>\n",
       "      <td>0.738562</td>\n",
       "    </tr>\n",
       "    <tr>\n",
       "      <th>4</th>\n",
       "      <td>Chihuahua</td>\n",
       "      <td>0.076923</td>\n",
       "      <td>0.006536</td>\n",
       "    </tr>\n",
       "  </tbody>\n",
       "</table>\n",
       "</div>"
      ],
      "text/plain": [
       "              breed  height (inches)  weight (pounds)\n",
       "0     Border Collie         0.538462         0.248366\n",
       "1    Boston Terrier         0.384615         0.084967\n",
       "2  Brittany Spaniel         0.461538         0.183007\n",
       "3       Bullmastiff         0.807692         0.738562\n",
       "4         Chihuahua         0.076923         0.006536"
      ]
     },
     "execution_count": 14,
     "metadata": {},
     "output_type": "execute_result"
    }
   ],
   "source": [
    "data.head()"
   ]
  },
  {
   "cell_type": "code",
   "execution_count": 15,
   "metadata": {},
   "outputs": [],
   "source": [
    "data = data.rename(columns={'breed':'breed', 'height (inches)':'height','weight (pounds)':'weight'})"
   ]
  },
  {
   "cell_type": "code",
   "execution_count": 92,
   "metadata": {},
   "outputs": [],
   "source": [
    "def init(data):\n",
    "    distances = {}\n",
    "    counter = 0\n",
    "    dogs_que = PriorityQueue()\n",
    "    for i in range(data.shape[0]):\n",
    "        min_d = [None , None]\n",
    "        for j in range(data.shape[0]):\n",
    "            if i!=j:\n",
    "                d = np.sqrt((data.loc[i].height - data.loc[j].height)**2 + (data.loc[i].weight - data.loc[j].weight)**2)\n",
    "                distances[counter] = ((i,j),d)\n",
    "                if min_d[0]==None:\n",
    "                    min_d[0] = d\n",
    "                    min_d[1] = (i,j)\n",
    "                elif min_d[0]>d:\n",
    "                    min_d[0] = d\n",
    "                    min_d[1] = (i,j)\n",
    "                counter +=1\n",
    "        dogs_que.put((min_d[0], min_d[1]))\n",
    "    return dogs_que    \n"
   ]
  },
  {
   "cell_type": "code",
   "execution_count": 93,
   "metadata": {},
   "outputs": [],
   "source": [
    "q = init(data)"
   ]
  },
  {
   "cell_type": "code",
   "execution_count": 117,
   "metadata": {},
   "outputs": [
    {
     "data": {
      "text/plain": [
       "10"
      ]
     },
     "execution_count": 117,
     "metadata": {},
     "output_type": "execute_result"
    }
   ],
   "source": [
    "q.qsize()"
   ]
  },
  {
   "cell_type": "code",
   "execution_count": 98,
   "metadata": {},
   "outputs": [],
   "source": [
    "b = a.get()"
   ]
  },
  {
   "cell_type": "code",
   "execution_count": 107,
   "metadata": {},
   "outputs": [
    {
     "data": {
      "text/plain": [
       "(0.05047034033286324, (0, 8))"
      ]
     },
     "execution_count": 107,
     "metadata": {},
     "output_type": "execute_result"
    }
   ],
   "source": [
    "b"
   ]
  },
  {
   "cell_type": "code",
   "execution_count": null,
   "metadata": {},
   "outputs": [],
   "source": [
    "((1,2),(3,4),(5,6))\n",
    "((7,8))"
   ]
  },
  {
   "cell_type": "code",
   "execution_count": 91,
   "metadata": {},
   "outputs": [
    {
     "data": {
      "text/plain": [
       "(0.12461479677668082, (1, 2))"
      ]
     },
     "execution_count": 91,
     "metadata": {},
     "output_type": "execute_result"
    }
   ],
   "source": [
    "def cluster(data, que):\n",
    "    while(que.qsize()==1):\n",
    "        a = q.get()\n",
    "        b = q.get()\n",
    "        #mix a,b, use single linkage\n",
    "        min_d = 0\n",
    "        for i in range(len(a)):\n",
    "            for j in range(len(b)):\n",
    "                d = np.sqrt((data.loc[a[i]].height - data.loc[b[j]].height)**2 + (data.loc[a[i]].weight - data.loc[b[j]].weight)**2)\n",
    "                 \n",
    "                \n",
    "        "
   ]
  },
  {
   "cell_type": "code",
   "execution_count": 22,
   "metadata": {},
   "outputs": [],
   "source": [
    "class hCluster:\n",
    "\n",
    "    def __init__(self, data):\n",
    "        self.data = data\n",
    "        self.dogs = np.arange(data.shape[0])\n",
    "        self.que = self.init_distance()\n",
    "    def update_que(self): \n",
    "        distances = PriorityQueue()\n",
    "        while self.que.qsize() == 1:\n",
    "            c1 = self.que.get()\n",
    "            for i in range(self.que.qsize()):\n",
    "                d = self.distance(c1, i)\n",
    "    def distance(self,clstr, obj): #write recursively # single linkage\n",
    "        min_d= 0\n",
    "        \n",
    "    def init_distances(self):\n",
    "        distances = PriorityQueue()\n",
    "        dogs = list(range(data.shape[0]))\n",
    "        print(dogs)\n",
    "        for doga in dogs:\n",
    "            tempq = PriorityQueue()\n",
    "            print(\"doga:\", doga)\n",
    "            for dogb in dogs:\n",
    "                print(\"dogb:\", dogb)\n",
    "                if doga>dogb:\n",
    "                    d = math.sqrt((self.data.loc[doga].weight -self.data.loc[dogb].weight )**2 + (self.data.loc[doga].height-self.data.loc[dogb].height)**2)\n",
    "                    tempq.put((d, (doga,dogb)))\n",
    "            #dogs.remove(doga)\n",
    "            print(dogs)\n",
    "            if tempq.qsize()>0:\n",
    "                x = tempq.get()\n",
    "                print(x)\n",
    "                distances.put(x)\n",
    "        return distances\n",
    "                "
   ]
  },
  {
   "cell_type": "code",
   "execution_count": 71,
   "metadata": {},
   "outputs": [],
   "source": [
    "def init_distances():\n",
    "    distances = PriorityQueue()\n",
    "    dogs = list(range(data.shape[0]))\n",
    "    print(dogs)\n",
    "    for doga in dogs:\n",
    "        tempq = PriorityQueue()\n",
    "        print(\"doga:\", doga)\n",
    "        for dogb in dogs:\n",
    "            print(\"dogb:\", dogb)\n",
    "            if doga>dogb:\n",
    "                d = math.sqrt((data.loc[doga].weight -data.loc[dogb].weight )**2 + (data.loc[doga].height-data.loc[dogb].height)**2)\n",
    "                tempq.put((d, (doga,dogb)))\n",
    "        #dogs.remove(doga)\n",
    "        print(dogs)\n",
    "        if tempq.qsize()>0:\n",
    "            x = tempq.get()\n",
    "            print(x)\n",
    "            distances.put(x)\n",
    "    first = distances.get()\n",
    "    a = first[1][0]\n",
    "    b = first[1][1]\n",
    "    print('first', first)\n",
    "    distances = PriorityQueue()\n",
    "    distances.put(first[0], first[1])\n",
    "    remain = list(range(data.shape[0]))\n",
    "    remain.remove(a)\n",
    "    remain.remove(b)\n",
    "    for r in remain:\n",
    "        distances.put(100,r)\n",
    "    return distances"
   ]
  },
  {
   "cell_type": "code",
   "execution_count": 72,
   "metadata": {},
   "outputs": [
    {
     "name": "stdout",
     "output_type": "stream",
     "text": [
      "[0, 1, 2, 3, 4, 5, 6, 7, 8, 9, 10]\n",
      "doga: 0\n",
      "dogb: 0\n",
      "dogb: 1\n",
      "dogb: 2\n",
      "dogb: 3\n",
      "dogb: 4\n",
      "dogb: 5\n",
      "dogb: 6\n",
      "dogb: 7\n",
      "dogb: 8\n",
      "dogb: 9\n",
      "dogb: 10\n",
      "[0, 1, 2, 3, 4, 5, 6, 7, 8, 9, 10]\n",
      "doga: 1\n",
      "dogb: 0\n",
      "dogb: 1\n",
      "dogb: 2\n",
      "dogb: 3\n",
      "dogb: 4\n",
      "dogb: 5\n",
      "dogb: 6\n",
      "dogb: 7\n",
      "dogb: 8\n",
      "dogb: 9\n",
      "dogb: 10\n",
      "[0, 1, 2, 3, 4, 5, 6, 7, 8, 9, 10]\n",
      "(0.22442765396764436, (1, 0))\n",
      "doga: 2\n",
      "dogb: 0\n",
      "dogb: 1\n",
      "dogb: 2\n",
      "dogb: 3\n",
      "dogb: 4\n",
      "dogb: 5\n",
      "dogb: 6\n",
      "dogb: 7\n",
      "dogb: 8\n",
      "dogb: 9\n",
      "dogb: 10\n",
      "[0, 1, 2, 3, 4, 5, 6, 7, 8, 9, 10]\n",
      "(0.10094068066572678, (2, 0))\n",
      "doga: 3\n",
      "dogb: 0\n",
      "dogb: 1\n",
      "dogb: 2\n",
      "dogb: 3\n",
      "dogb: 4\n",
      "dogb: 5\n",
      "dogb: 6\n",
      "dogb: 7\n",
      "dogb: 8\n",
      "dogb: 9\n",
      "dogb: 10\n",
      "[0, 1, 2, 3, 4, 5, 6, 7, 8, 9, 10]\n",
      "(0.5592650555953662, (3, 0))\n",
      "doga: 4\n",
      "dogb: 0\n",
      "dogb: 1\n",
      "dogb: 2\n",
      "dogb: 3\n",
      "dogb: 4\n",
      "dogb: 5\n",
      "dogb: 6\n",
      "dogb: 7\n",
      "dogb: 8\n",
      "dogb: 9\n",
      "dogb: 10\n",
      "[0, 1, 2, 3, 4, 5, 6, 7, 8, 9, 10]\n",
      "(0.3175311581765495, (4, 1))\n",
      "doga: 5\n",
      "dogb: 0\n",
      "dogb: 1\n",
      "dogb: 2\n",
      "dogb: 3\n",
      "dogb: 4\n",
      "dogb: 5\n",
      "dogb: 6\n",
      "dogb: 7\n",
      "dogb: 8\n",
      "dogb: 9\n",
      "dogb: 10\n",
      "[0, 1, 2, 3, 4, 5, 6, 7, 8, 9, 10]\n",
      "(0.28508383365664863, (5, 3))\n",
      "doga: 6\n",
      "dogb: 0\n",
      "dogb: 1\n",
      "dogb: 2\n",
      "dogb: 3\n",
      "dogb: 4\n",
      "dogb: 5\n",
      "dogb: 6\n",
      "dogb: 7\n",
      "dogb: 8\n",
      "dogb: 9\n",
      "dogb: 10\n",
      "[0, 1, 2, 3, 4, 5, 6, 7, 8, 9, 10]\n",
      "(0.0930115635997988, (6, 5))\n",
      "doga: 7\n",
      "dogb: 0\n",
      "dogb: 1\n",
      "dogb: 2\n",
      "dogb: 3\n",
      "dogb: 4\n",
      "dogb: 5\n",
      "dogb: 6\n",
      "dogb: 7\n",
      "dogb: 8\n",
      "dogb: 9\n",
      "dogb: 10\n",
      "[0, 1, 2, 3, 4, 5, 6, 7, 8, 9, 10]\n",
      "(0.3245489616681213, (7, 3))\n",
      "doga: 8\n",
      "dogb: 0\n",
      "dogb: 1\n",
      "dogb: 2\n",
      "dogb: 3\n",
      "dogb: 4\n",
      "dogb: 5\n",
      "dogb: 6\n",
      "dogb: 7\n",
      "dogb: 8\n",
      "dogb: 9\n",
      "dogb: 10\n",
      "[0, 1, 2, 3, 4, 5, 6, 7, 8, 9, 10]\n",
      "(0.05047034033286324, (8, 0))\n",
      "doga: 9\n",
      "dogb: 0\n",
      "dogb: 1\n",
      "dogb: 2\n",
      "dogb: 3\n",
      "dogb: 4\n",
      "dogb: 5\n",
      "dogb: 6\n",
      "dogb: 7\n",
      "dogb: 8\n",
      "dogb: 9\n",
      "dogb: 10\n",
      "[0, 1, 2, 3, 4, 5, 6, 7, 8, 9, 10]\n",
      "(0.12461479677668079, (9, 8))\n",
      "doga: 10\n",
      "dogb: 0\n",
      "dogb: 1\n",
      "dogb: 2\n",
      "dogb: 3\n",
      "dogb: 4\n",
      "dogb: 5\n",
      "dogb: 6\n",
      "dogb: 7\n",
      "dogb: 8\n",
      "dogb: 9\n",
      "dogb: 10\n",
      "[0, 1, 2, 3, 4, 5, 6, 7, 8, 9, 10]\n",
      "(0.07720024854761205, (10, 4))\n",
      "first (0.05047034033286324, (8, 0))\n"
     ]
    }
   ],
   "source": [
    "q = init_distances()"
   ]
  },
  {
   "cell_type": "code",
   "execution_count": 75,
   "metadata": {},
   "outputs": [
    {
     "data": {
      "text/plain": [
       "100"
      ]
     },
     "execution_count": 75,
     "metadata": {},
     "output_type": "execute_result"
    }
   ],
   "source": [
    "q.get()"
   ]
  },
  {
   "cell_type": "code",
   "execution_count": 67,
   "metadata": {},
   "outputs": [],
   "source": [
    "b.put(4,2)"
   ]
  },
  {
   "cell_type": "code",
   "execution_count": 68,
   "metadata": {},
   "outputs": [],
   "source": [
    "b.put(2, (4,3))"
   ]
  },
  {
   "cell_type": "code",
   "execution_count": 25,
   "metadata": {},
   "outputs": [
    {
     "data": {
      "text/plain": [
       "10"
      ]
     },
     "execution_count": 25,
     "metadata": {},
     "output_type": "execute_result"
    }
   ],
   "source": [
    "def updateq(que, dt):\n",
    "    #base:\n",
    "    if que.qsize() == 1:\n",
    "        return que\n",
    "    #recursion:\n",
    "    else:\n",
    "        \n",
    "        "
   ]
  },
  {
   "cell_type": "code",
   "execution_count": 76,
   "metadata": {},
   "outputs": [
    {
     "data": {
      "text/plain": [
       "[0, 1, 2, 3, 4, 5, 6, 7, 8, 9]"
      ]
     },
     "execution_count": 76,
     "metadata": {},
     "output_type": "execute_result"
    }
   ],
   "source": [
    "b = list(range(10))\n",
    "b"
   ]
  },
  {
   "cell_type": "code",
   "execution_count": 77,
   "metadata": {},
   "outputs": [
    {
     "name": "stdout",
     "output_type": "stream",
     "text": [
      "0 1\n",
      "0 2\n",
      "0 3\n",
      "0 4\n",
      "0 5\n",
      "0 6\n",
      "0 7\n",
      "0 8\n",
      "0 9\n",
      "1 2\n",
      "1 3\n",
      "1 4\n",
      "1 5\n",
      "1 6\n",
      "1 7\n",
      "1 8\n",
      "1 9\n",
      "2 3\n",
      "2 4\n",
      "2 5\n",
      "2 6\n",
      "2 7\n",
      "2 8\n",
      "2 9\n",
      "3 4\n",
      "3 5\n",
      "3 6\n",
      "3 7\n",
      "3 8\n",
      "3 9\n",
      "4 5\n",
      "4 6\n",
      "4 7\n",
      "4 8\n",
      "4 9\n",
      "5 6\n",
      "5 7\n",
      "5 8\n",
      "5 9\n",
      "6 7\n",
      "6 8\n",
      "6 9\n",
      "7 8\n",
      "7 9\n",
      "8 9\n"
     ]
    }
   ],
   "source": [
    "y = PriorityQueue()\n",
    "for bb in b:\n",
    "    x = PriorityQueue()\n",
    "    for cc in b:\n",
    "        if bb < cc:\n",
    "            print(bb, cc)\n",
    "            x.put((bb,cc))\n",
    "        #b.remove(bb)"
   ]
  },
  {
   "cell_type": "code",
   "execution_count": null,
   "metadata": {},
   "outputs": [],
   "source": [
    "x.get()"
   ]
  },
  {
   "cell_type": "code",
   "execution_count": 27,
   "metadata": {},
   "outputs": [
    {
     "data": {
      "text/plain": [
       "10"
      ]
     },
     "execution_count": 27,
     "metadata": {},
     "output_type": "execute_result"
    }
   ],
   "source": [
    "a.qsize()"
   ]
  },
  {
   "cell_type": "code",
   "execution_count": 29,
   "metadata": {},
   "outputs": [],
   "source": [
    "x = a.get()"
   ]
  },
  {
   "cell_type": "code",
   "execution_count": 31,
   "metadata": {},
   "outputs": [
    {
     "data": {
      "text/plain": [
       "2"
      ]
     },
     "execution_count": 31,
     "metadata": {},
     "output_type": "execute_result"
    }
   ],
   "source": [
    "len(x)"
   ]
  },
  {
   "cell_type": "code",
   "execution_count": 32,
   "metadata": {},
   "outputs": [
    {
     "data": {
      "text/plain": [
       "(0.05047034033286324, (8, 0))"
      ]
     },
     "execution_count": 32,
     "metadata": {},
     "output_type": "execute_result"
    }
   ],
   "source": [
    "x"
   ]
  },
  {
   "cell_type": "code",
   "execution_count": 35,
   "metadata": {},
   "outputs": [
    {
     "data": {
      "text/plain": [
       "8"
      ]
     },
     "execution_count": 35,
     "metadata": {},
     "output_type": "execute_result"
    }
   ],
   "source": [
    "x[1][0]"
   ]
  },
  {
   "cell_type": "code",
   "execution_count": 15,
   "metadata": {},
   "outputs": [
    {
     "data": {
      "text/html": [
       "<div>\n",
       "<style scoped>\n",
       "    .dataframe tbody tr th:only-of-type {\n",
       "        vertical-align: middle;\n",
       "    }\n",
       "\n",
       "    .dataframe tbody tr th {\n",
       "        vertical-align: top;\n",
       "    }\n",
       "\n",
       "    .dataframe thead th {\n",
       "        text-align: right;\n",
       "    }\n",
       "</style>\n",
       "<table border=\"1\" class=\"dataframe\">\n",
       "  <thead>\n",
       "    <tr style=\"text-align: right;\">\n",
       "      <th></th>\n",
       "      <th>breed</th>\n",
       "      <th>height</th>\n",
       "      <th>weight</th>\n",
       "    </tr>\n",
       "  </thead>\n",
       "  <tbody>\n",
       "    <tr>\n",
       "      <th>0</th>\n",
       "      <td>Border Collie</td>\n",
       "      <td>0.538462</td>\n",
       "      <td>0.248366</td>\n",
       "    </tr>\n",
       "    <tr>\n",
       "      <th>1</th>\n",
       "      <td>Boston Terrier</td>\n",
       "      <td>0.384615</td>\n",
       "      <td>0.084967</td>\n",
       "    </tr>\n",
       "    <tr>\n",
       "      <th>2</th>\n",
       "      <td>Brittany Spaniel</td>\n",
       "      <td>0.461538</td>\n",
       "      <td>0.183007</td>\n",
       "    </tr>\n",
       "    <tr>\n",
       "      <th>3</th>\n",
       "      <td>Bullmastiff</td>\n",
       "      <td>0.807692</td>\n",
       "      <td>0.738562</td>\n",
       "    </tr>\n",
       "    <tr>\n",
       "      <th>4</th>\n",
       "      <td>Chihuahua</td>\n",
       "      <td>0.076923</td>\n",
       "      <td>0.006536</td>\n",
       "    </tr>\n",
       "    <tr>\n",
       "      <th>5</th>\n",
       "      <td>German Shepherd</td>\n",
       "      <td>0.730769</td>\n",
       "      <td>0.464052</td>\n",
       "    </tr>\n",
       "    <tr>\n",
       "      <th>6</th>\n",
       "      <td>Golden Retriever</td>\n",
       "      <td>0.653846</td>\n",
       "      <td>0.411765</td>\n",
       "    </tr>\n",
       "    <tr>\n",
       "      <th>7</th>\n",
       "      <td>Great Dane</td>\n",
       "      <td>1.000000</td>\n",
       "      <td>1.000000</td>\n",
       "    </tr>\n",
       "    <tr>\n",
       "      <th>8</th>\n",
       "      <td>Portuguese Water Dog</td>\n",
       "      <td>0.576923</td>\n",
       "      <td>0.281046</td>\n",
       "    </tr>\n",
       "    <tr>\n",
       "      <th>9</th>\n",
       "      <td>Standard Poodle</td>\n",
       "      <td>0.500000</td>\n",
       "      <td>0.379085</td>\n",
       "    </tr>\n",
       "    <tr>\n",
       "      <th>10</th>\n",
       "      <td>Yorkshire Terrier</td>\n",
       "      <td>0.000000</td>\n",
       "      <td>0.000000</td>\n",
       "    </tr>\n",
       "  </tbody>\n",
       "</table>\n",
       "</div>"
      ],
      "text/plain": [
       "                   breed    height    weight\n",
       "0          Border Collie  0.538462  0.248366\n",
       "1         Boston Terrier  0.384615  0.084967\n",
       "2       Brittany Spaniel  0.461538  0.183007\n",
       "3            Bullmastiff  0.807692  0.738562\n",
       "4              Chihuahua  0.076923  0.006536\n",
       "5        German Shepherd  0.730769  0.464052\n",
       "6       Golden Retriever  0.653846  0.411765\n",
       "7             Great Dane  1.000000  1.000000\n",
       "8   Portuguese Water Dog  0.576923  0.281046\n",
       "9        Standard Poodle  0.500000  0.379085\n",
       "10     Yorkshire Terrier  0.000000  0.000000"
      ]
     },
     "execution_count": 15,
     "metadata": {},
     "output_type": "execute_result"
    }
   ],
   "source": [
    "data"
   ]
  },
  {
   "cell_type": "code",
   "execution_count": 19,
   "metadata": {},
   "outputs": [
    {
     "data": {
      "text/plain": [
       "(0.05047034033286324, (8, 0))"
      ]
     },
     "execution_count": 19,
     "metadata": {},
     "output_type": "execute_result"
    }
   ],
   "source": [
    "a.get()"
   ]
  },
  {
   "cell_type": "code",
   "execution_count": 20,
   "metadata": {},
   "outputs": [
    {
     "data": {
      "text/plain": [
       "(0.07720024854761205, (10, 4))"
      ]
     },
     "execution_count": 20,
     "metadata": {},
     "output_type": "execute_result"
    }
   ],
   "source": [
    "a.get()"
   ]
  },
  {
   "cell_type": "code",
   "execution_count": 21,
   "metadata": {},
   "outputs": [
    {
     "data": {
      "text/plain": [
       "(0.0930115635997988, (6, 5))"
      ]
     },
     "execution_count": 21,
     "metadata": {},
     "output_type": "execute_result"
    }
   ],
   "source": [
    "a.get()"
   ]
  },
  {
   "cell_type": "code",
   "execution_count": 23,
   "metadata": {},
   "outputs": [
    {
     "data": {
      "text/plain": [
       "(15.132745950421556, (2, 1))"
      ]
     },
     "execution_count": 23,
     "metadata": {},
     "output_type": "execute_result"
    }
   ],
   "source": [
    "a.get()"
   ]
  },
  {
   "cell_type": "code",
   "execution_count": 24,
   "metadata": {},
   "outputs": [
    {
     "data": {
      "text/plain": [
       "(15.132745950421556, (8, 9))"
      ]
     },
     "execution_count": 24,
     "metadata": {},
     "output_type": "execute_result"
    }
   ],
   "source": [
    "a.get()"
   ]
  },
  {
   "cell_type": "code",
   "execution_count": 25,
   "metadata": {},
   "outputs": [
    {
     "data": {
      "text/plain": [
       "(16.401219466856727, (10, 1))"
      ]
     },
     "execution_count": 25,
     "metadata": {},
     "output_type": "execute_result"
    }
   ],
   "source": [
    "a.get()"
   ]
  },
  {
   "cell_type": "code",
   "execution_count": null,
   "metadata": {},
   "outputs": [],
   "source": [
    "a.get()"
   ]
  },
  {
   "cell_type": "code",
   "execution_count": 100,
   "metadata": {},
   "outputs": [],
   "source": [
    "singers = PriorityQueue()"
   ]
  },
  {
   "cell_type": "code",
   "execution_count": 101,
   "metadata": {},
   "outputs": [],
   "source": [
    "singers.put((1,'mahdi'))\n",
    "singers.put((2,'amir'))\n",
    "singers.put((4,'ghasem'))\n",
    "singers.put((7,'vali'))"
   ]
  },
  {
   "cell_type": "code",
   "execution_count": null,
   "metadata": {},
   "outputs": [],
   "source": [
    "singers"
   ]
  },
  {
   "cell_type": "code",
   "execution_count": 173,
   "metadata": {},
   "outputs": [],
   "source": [
    "dt = {1:14,2:59,3:88,4:25}"
   ]
  },
  {
   "cell_type": "code",
   "execution_count": 174,
   "metadata": {},
   "outputs": [
    {
     "data": {
      "text/plain": [
       "14"
      ]
     },
     "execution_count": 174,
     "metadata": {},
     "output_type": "execute_result"
    }
   ],
   "source": [
    "dt[1]"
   ]
  },
  {
   "cell_type": "code",
   "execution_count": 3,
   "metadata": {},
   "outputs": [],
   "source": [
    "dt = {1:14,2:59,3:88,4:25}"
   ]
  },
  {
   "cell_type": "code",
   "execution_count": 4,
   "metadata": {},
   "outputs": [],
   "source": [
    "def dis2(dt, x, y):\n",
    "    #base\n",
    "    if type(x)== int and type(y)==int:\n",
    "        return dt[x] - dt[y]\n",
    "    \n",
    "    #recursions\n",
    "    elif type(x)==tuple:\n",
    "        d = 0\n",
    "        for i in x:\n",
    "            d += dis2(dt, i, y)\n",
    "        return d\n",
    "    elif type(y)==tuple:\n",
    "        d2 = 0\n",
    "        for j in y:\n",
    "            d2 += dis2(dt,x,j)\n",
    "        return d2\n",
    "    "
   ]
  },
  {
   "cell_type": "code",
   "execution_count": 243,
   "metadata": {},
   "outputs": [
    {
     "data": {
      "text/plain": [
       "-74"
      ]
     },
     "execution_count": 243,
     "metadata": {},
     "output_type": "execute_result"
    }
   ],
   "source": [
    "dis2(dt,1,3)"
   ]
  },
  {
   "cell_type": "code",
   "execution_count": 244,
   "metadata": {},
   "outputs": [
    {
     "data": {
      "text/plain": [
       "-11"
      ]
     },
     "execution_count": 244,
     "metadata": {},
     "output_type": "execute_result"
    }
   ],
   "source": [
    "dis2(dt,1,4)"
   ]
  },
  {
   "cell_type": "code",
   "execution_count": 245,
   "metadata": {},
   "outputs": [
    {
     "data": {
      "text/plain": [
       "-85"
      ]
     },
     "execution_count": 245,
     "metadata": {},
     "output_type": "execute_result"
    }
   ],
   "source": [
    "dis2(dt,1,(3,4))"
   ]
  },
  {
   "cell_type": "code",
   "execution_count": 246,
   "metadata": {},
   "outputs": [
    {
     "data": {
      "text/plain": [
       "-29"
      ]
     },
     "execution_count": 246,
     "metadata": {},
     "output_type": "execute_result"
    }
   ],
   "source": [
    "dis2(dt,2,3)"
   ]
  },
  {
   "cell_type": "code",
   "execution_count": 247,
   "metadata": {},
   "outputs": [
    {
     "data": {
      "text/plain": [
       "34"
      ]
     },
     "execution_count": 247,
     "metadata": {},
     "output_type": "execute_result"
    }
   ],
   "source": [
    "dis2(dt,2,4)"
   ]
  },
  {
   "cell_type": "code",
   "execution_count": 250,
   "metadata": {},
   "outputs": [
    {
     "data": {
      "text/plain": [
       "5"
      ]
     },
     "execution_count": 250,
     "metadata": {},
     "output_type": "execute_result"
    }
   ],
   "source": [
    "dis2(dt,2,(3,4))"
   ]
  },
  {
   "cell_type": "code",
   "execution_count": 253,
   "metadata": {},
   "outputs": [
    {
     "data": {
      "text/plain": [
       "-80"
      ]
     },
     "execution_count": 253,
     "metadata": {},
     "output_type": "execute_result"
    }
   ],
   "source": [
    "dis2(dt,(1,2),(3,4))"
   ]
  },
  {
   "cell_type": "code",
   "execution_count": 254,
   "metadata": {},
   "outputs": [
    {
     "data": {
      "text/plain": [
       "-75"
      ]
     },
     "execution_count": 254,
     "metadata": {},
     "output_type": "execute_result"
    }
   ],
   "source": [
    "dis2(dt,((1,2),2),(3,4))"
   ]
  },
  {
   "cell_type": "code",
   "execution_count": null,
   "metadata": {},
   "outputs": [],
   "source": []
  }
 ],
 "metadata": {
  "kernelspec": {
   "display_name": "Python 3",
   "language": "python",
   "name": "python3"
  },
  "language_info": {
   "codemirror_mode": {
    "name": "ipython",
    "version": 3
   },
   "file_extension": ".py",
   "mimetype": "text/x-python",
   "name": "python",
   "nbconvert_exporter": "python",
   "pygments_lexer": "ipython3",
   "version": "3.7.3"
  }
 },
 "nbformat": 4,
 "nbformat_minor": 2
}
