{
 "cells": [
  {
   "cell_type": "code",
   "execution_count": 171,
   "metadata": {},
   "outputs": [],
   "source": [
    "import pandas as pd\n",
    "import re\n",
    "from sklearn.preprocessing import MinMaxScaler\n",
    "import numpy as np\n",
    "from queue import PriorityQueue\n",
    "import math"
   ]
  },
  {
   "cell_type": "code",
   "execution_count": 12,
   "metadata": {},
   "outputs": [],
   "source": [
    "data = pd.read_csv('dogs.csv', sep = ',')"
   ]
  },
  {
   "cell_type": "code",
   "execution_count": 13,
   "metadata": {},
   "outputs": [
    {
     "data": {
      "text/plain": [
       "(11, 3)"
      ]
     },
     "execution_count": 13,
     "metadata": {},
     "output_type": "execute_result"
    }
   ],
   "source": [
    "data.shape"
   ]
  },
  {
   "cell_type": "code",
   "execution_count": 24,
   "metadata": {},
   "outputs": [],
   "source": [
    "height = np.array(data['height (inches)'])"
   ]
  },
  {
   "cell_type": "code",
   "execution_count": 27,
   "metadata": {},
   "outputs": [
    {
     "data": {
      "text/plain": [
       "array([[20],\n",
       "       [16],\n",
       "       [18],\n",
       "       [27],\n",
       "       [ 8],\n",
       "       [25],\n",
       "       [23],\n",
       "       [32],\n",
       "       [21],\n",
       "       [19],\n",
       "       [ 6]], dtype=int64)"
      ]
     },
     "execution_count": 27,
     "metadata": {},
     "output_type": "execute_result"
    }
   ],
   "source": [
    "height.reshape([-1,1])"
   ]
  },
  {
   "cell_type": "code",
   "execution_count": 29,
   "metadata": {},
   "outputs": [],
   "source": [
    "normalizer = MinMaxScaler()\n",
    "norm_height = normalizer.fit_transform(height.reshape([-1,1]))"
   ]
  },
  {
   "cell_type": "code",
   "execution_count": 33,
   "metadata": {},
   "outputs": [],
   "source": [
    "data['height (inches)'] = norm_height[:,0]"
   ]
  },
  {
   "cell_type": "code",
   "execution_count": 36,
   "metadata": {},
   "outputs": [],
   "source": [
    "weight= data['weight (pounds)']\n",
    "weight= np.array(weight)\n",
    "weight = weight.reshape([-1,1])\n",
    "weight = normalizer.fit_transform(weight)\n",
    "data['weight (pounds)'] = weight[:,0]"
   ]
  },
  {
   "cell_type": "code",
   "execution_count": 49,
   "metadata": {},
   "outputs": [
    {
     "data": {
      "text/html": [
       "<div>\n",
       "<style scoped>\n",
       "    .dataframe tbody tr th:only-of-type {\n",
       "        vertical-align: middle;\n",
       "    }\n",
       "\n",
       "    .dataframe tbody tr th {\n",
       "        vertical-align: top;\n",
       "    }\n",
       "\n",
       "    .dataframe thead th {\n",
       "        text-align: right;\n",
       "    }\n",
       "</style>\n",
       "<table border=\"1\" class=\"dataframe\">\n",
       "  <thead>\n",
       "    <tr style=\"text-align: right;\">\n",
       "      <th></th>\n",
       "      <th>breed</th>\n",
       "      <th>height</th>\n",
       "      <th>weight</th>\n",
       "    </tr>\n",
       "  </thead>\n",
       "  <tbody>\n",
       "    <tr>\n",
       "      <th>0</th>\n",
       "      <td>Border Collie</td>\n",
       "      <td>0.538462</td>\n",
       "      <td>0.248366</td>\n",
       "    </tr>\n",
       "    <tr>\n",
       "      <th>1</th>\n",
       "      <td>Boston Terrier</td>\n",
       "      <td>0.384615</td>\n",
       "      <td>0.084967</td>\n",
       "    </tr>\n",
       "    <tr>\n",
       "      <th>2</th>\n",
       "      <td>Brittany Spaniel</td>\n",
       "      <td>0.461538</td>\n",
       "      <td>0.183007</td>\n",
       "    </tr>\n",
       "    <tr>\n",
       "      <th>3</th>\n",
       "      <td>Bullmastiff</td>\n",
       "      <td>0.807692</td>\n",
       "      <td>0.738562</td>\n",
       "    </tr>\n",
       "    <tr>\n",
       "      <th>4</th>\n",
       "      <td>Chihuahua</td>\n",
       "      <td>0.076923</td>\n",
       "      <td>0.006536</td>\n",
       "    </tr>\n",
       "  </tbody>\n",
       "</table>\n",
       "</div>"
      ],
      "text/plain": [
       "              breed    height    weight\n",
       "0     Border Collie  0.538462  0.248366\n",
       "1    Boston Terrier  0.384615  0.084967\n",
       "2  Brittany Spaniel  0.461538  0.183007\n",
       "3       Bullmastiff  0.807692  0.738562\n",
       "4         Chihuahua  0.076923  0.006536"
      ]
     },
     "execution_count": 49,
     "metadata": {},
     "output_type": "execute_result"
    }
   ],
   "source": [
    "data.head()"
   ]
  },
  {
   "cell_type": "code",
   "execution_count": 48,
   "metadata": {},
   "outputs": [],
   "source": [
    "data = data.rename(columns={'breed':'breed', 'height (inches)':'height','weight (pounds)':'weight'})"
   ]
  },
  {
   "cell_type": "code",
   "execution_count": 92,
   "metadata": {},
   "outputs": [],
   "source": [
    "def init(data):\n",
    "    distances = {}\n",
    "    counter = 0\n",
    "    dogs_que = PriorityQueue()\n",
    "    for i in range(data.shape[0]):\n",
    "        min_d = [None , None]\n",
    "        for j in range(data.shape[0]):\n",
    "            if i!=j:\n",
    "                d = np.sqrt((data.loc[i].height - data.loc[j].height)**2 + (data.loc[i].weight - data.loc[j].weight)**2)\n",
    "                distances[counter] = ((i,j),d)\n",
    "                if min_d[0]==None:\n",
    "                    min_d[0] = d\n",
    "                    min_d[1] = (i,j)\n",
    "                elif min_d[0]>d:\n",
    "                    min_d[0] = d\n",
    "                    min_d[1] = (i,j)\n",
    "                counter +=1\n",
    "        dogs_que.put((min_d[0], min_d[1]))\n",
    "    return dogs_que    \n"
   ]
  },
  {
   "cell_type": "code",
   "execution_count": 93,
   "metadata": {},
   "outputs": [],
   "source": [
    "q = init(data)"
   ]
  },
  {
   "cell_type": "code",
   "execution_count": 117,
   "metadata": {},
   "outputs": [
    {
     "data": {
      "text/plain": [
       "10"
      ]
     },
     "execution_count": 117,
     "metadata": {},
     "output_type": "execute_result"
    }
   ],
   "source": [
    "q.qsize()"
   ]
  },
  {
   "cell_type": "code",
   "execution_count": 98,
   "metadata": {},
   "outputs": [],
   "source": [
    "b = a.get()"
   ]
  },
  {
   "cell_type": "code",
   "execution_count": 107,
   "metadata": {},
   "outputs": [
    {
     "data": {
      "text/plain": [
       "(0.05047034033286324, (0, 8))"
      ]
     },
     "execution_count": 107,
     "metadata": {},
     "output_type": "execute_result"
    }
   ],
   "source": [
    "b"
   ]
  },
  {
   "cell_type": "code",
   "execution_count": null,
   "metadata": {},
   "outputs": [],
   "source": [
    "((1,2),(3,4),(5,6))\n",
    "((7,8))"
   ]
  },
  {
   "cell_type": "code",
   "execution_count": 91,
   "metadata": {},
   "outputs": [
    {
     "data": {
      "text/plain": [
       "(0.12461479677668082, (1, 2))"
      ]
     },
     "execution_count": 91,
     "metadata": {},
     "output_type": "execute_result"
    }
   ],
   "source": [
    "def cluster(data, que):\n",
    "    while(que.qsize()==1):\n",
    "        a = q.get()\n",
    "        b = q.get()\n",
    "        #mix a,b, use single linkage\n",
    "        min_d = 0\n",
    "        for i in range(len(a)):\n",
    "            for j in range(len(b)):\n",
    "                d = np.sqrt((data.loc[a[i]].height - data.loc[b[j]].height)**2 + (data.loc[a[i]].weight - data.loc[b[j]].weight)**2)\n",
    "                 \n",
    "                \n",
    "        "
   ]
  },
  {
   "cell_type": "code",
   "execution_count": 154,
   "metadata": {},
   "outputs": [],
   "source": [
    "class hCluster:\n",
    "\n",
    "    def __init__(self, data):\n",
    "        self.data = data\n",
    "        self.dogs = np.arange(data.shape[0])\n",
    "        self.que = self.init_distance()\n",
    "    def update_que(self): \n",
    "        distances = PriorityQueue()\n",
    "        while self.que.qsize() == 1:\n",
    "            c1 = self.que.get()\n",
    "            for i in range(self.que.qsize()):\n",
    "                d = self.distance(c1, i)\n",
    "    def distance(clstr, obj): #write recursively # single linkage\n",
    "        min_d= 0\n",
    "        \n",
    "    def init_distances():\n",
    "        distances = {}\n",
    "        counter = 0\n",
    "        dogs_que = PriorityQueue()\n",
    "        min_d = [None , None]\n",
    "        for i in range(self.data.shape[0]):\n",
    "            for j in range(self.data.shape[0]):\n",
    "                if i!=j:\n",
    "                    d = np.sqrt((self.data.loc[i].height - self.data.loc[j].height)**2 + \n",
    "                                (self.data.loc[i].weight - self.data.loc[j].weight)**2)\n",
    "                    distances[counter] = ((i,j),d)\n",
    "                    if min_d[0]==None:\n",
    "                        min_d[0] = d\n",
    "                        min_d[1] = (i,j)\n",
    "                    elif min_d[0]>d:\n",
    "                        min_d[0] = d\n",
    "                        min_d[1] = (i,j)\n",
    "                    counter +=1\n",
    "        dogs_que.put((min_d[0], min_d[1]))\n",
    "        dogs = list(range(data.shape[0]))\n",
    "        del dogs[mid_d[1][0]]\n",
    "        del dogs[mid_d[1][1]]\n",
    "        for d in dogs:\n",
    "            dogs_que.put((1000, d))\n",
    "        return dogs_que   "
   ]
  },
  {
   "cell_type": "code",
   "execution_count": 140,
   "metadata": {},
   "outputs": [
    {
     "ename": "TypeError",
     "evalue": "unsupported operand type(s) for -: 'int' and 'list'",
     "output_type": "error",
     "traceback": [
      "\u001b[1;31m---------------------------------------------------------------------------\u001b[0m",
      "\u001b[1;31mTypeError\u001b[0m                                 Traceback (most recent call last)",
      "\u001b[1;32m<ipython-input-140-927c757cfb6b>\u001b[0m in \u001b[0;36m<module>\u001b[1;34m\u001b[0m\n\u001b[1;32m----> 1\u001b[1;33m \u001b[0ma\u001b[0m \u001b[1;33m=\u001b[0m \u001b[0mnp\u001b[0m\u001b[1;33m.\u001b[0m\u001b[0marange\u001b[0m\u001b[1;33m(\u001b[0m\u001b[0mdata\u001b[0m\u001b[1;33m.\u001b[0m\u001b[0mshape\u001b[0m\u001b[1;33m[\u001b[0m\u001b[1;36m0\u001b[0m\u001b[1;33m]\u001b[0m \u001b[1;33m-\u001b[0m \u001b[1;33m[\u001b[0m\u001b[1;36m7\u001b[0m\u001b[1;33m,\u001b[0m\u001b[1;36m9\u001b[0m\u001b[1;33m]\u001b[0m\u001b[1;33m)\u001b[0m\u001b[1;33m\u001b[0m\u001b[1;33m\u001b[0m\u001b[0m\n\u001b[0m\u001b[0;32m      2\u001b[0m \u001b[0ma\u001b[0m\u001b[1;33m\u001b[0m\u001b[1;33m\u001b[0m\u001b[0m\n",
      "\u001b[1;31mTypeError\u001b[0m: unsupported operand type(s) for -: 'int' and 'list'"
     ]
    }
   ],
   "source": [
    "a = np.arange(data.shape[0] - [7,9])\n",
    "a"
   ]
  },
  {
   "cell_type": "code",
   "execution_count": 147,
   "metadata": {},
   "outputs": [],
   "source": [
    "b  =[4,8,3,1,7,4]"
   ]
  },
  {
   "cell_type": "code",
   "execution_count": 145,
   "metadata": {},
   "outputs": [],
   "source": [
    "del b[2]"
   ]
  },
  {
   "cell_type": "code",
   "execution_count": 151,
   "metadata": {},
   "outputs": [
    {
     "ename": "TypeError",
     "evalue": "remove() takes exactly one argument (2 given)",
     "output_type": "error",
     "traceback": [
      "\u001b[1;31m---------------------------------------------------------------------------\u001b[0m",
      "\u001b[1;31mTypeError\u001b[0m                                 Traceback (most recent call last)",
      "\u001b[1;32m<ipython-input-151-e94c0420318e>\u001b[0m in \u001b[0;36m<module>\u001b[1;34m\u001b[0m\n\u001b[1;32m----> 1\u001b[1;33m \u001b[0mb\u001b[0m\u001b[1;33m.\u001b[0m\u001b[0mremove\u001b[0m\u001b[1;33m(\u001b[0m\u001b[1;36m4\u001b[0m\u001b[1;33m,\u001b[0m\u001b[1;36m8\u001b[0m\u001b[1;33m)\u001b[0m\u001b[1;33m\u001b[0m\u001b[1;33m\u001b[0m\u001b[0m\n\u001b[0m",
      "\u001b[1;31mTypeError\u001b[0m: remove() takes exactly one argument (2 given)"
     ]
    }
   ],
   "source": [
    "b.remove(4,8)"
   ]
  },
  {
   "cell_type": "code",
   "execution_count": 149,
   "metadata": {},
   "outputs": [
    {
     "data": {
      "text/plain": [
       "[4, 8, 3, 7, 4]"
      ]
     },
     "execution_count": 149,
     "metadata": {},
     "output_type": "execute_result"
    }
   ],
   "source": [
    "b"
   ]
  },
  {
   "cell_type": "code",
   "execution_count": 84,
   "metadata": {},
   "outputs": [
    {
     "data": {
      "text/plain": [
       "{0: ((0, 1), 0.22442765396764436),\n",
       " 1: ((0, 2), 0.10094068066572678),\n",
       " 2: ((0, 3), 0.5592650555953662),\n",
       " 3: ((0, 4), 0.5210561697082753),\n",
       " 4: ((0, 5), 0.2889685407317352),\n",
       " 5: ((0, 6), 0.20003185316249483),\n",
       " 6: ((0, 7), 0.8820268713507133),\n",
       " 7: ((0, 8), 0.05047034033286324),\n",
       " 8: ((0, 9), 0.13625980676859487),\n",
       " 9: ((0, 10), 0.5929810324551671),\n",
       " 10: ((1, 0), 0.22442765396764436),\n",
       " 11: ((1, 2), 0.12461479677668082),\n",
       " 12: ((1, 3), 0.7785757560025208),\n",
       " 13: ((1, 4), 0.3175311581765495),\n",
       " 14: ((1, 5), 0.5133496836030039),\n",
       " 15: ((1, 6), 0.42341674311398797),\n",
       " 16: ((1, 7), 1.1027162054860737),\n",
       " 17: ((1, 8), 0.27464340474555266),\n",
       " 18: ((1, 9), 0.31594113340759267),\n",
       " 19: ((1, 10), 0.39388886706182746),\n",
       " 20: ((2, 0), 0.10094068066572678),\n",
       " 21: ((2, 1), 0.12461479677668082),\n",
       " 22: ((2, 3), 0.6545719674075132),\n",
       " 23: ((2, 4), 0.42316765305839593),\n",
       " 24: ((2, 5), 0.3891939383033919),\n",
       " 25: ((2, 6), 0.29885205174560203),\n",
       " 26: ((2, 7), 0.9784779755858195),\n",
       " 27: ((2, 8), 0.15141102099859002),\n",
       " 28: ((2, 9), 0.19981501742949104),\n",
       " 29: ((2, 10), 0.4964968717714859),\n",
       " 30: ((3, 0), 0.5592650555953662),\n",
       " 31: ((3, 1), 0.7785757560025208),\n",
       " 32: ((3, 2), 0.6545719674075132),\n",
       " 33: ((3, 4), 1.0343529106800808),\n",
       " 34: ((3, 5), 0.28508383365664863),\n",
       " 35: ((3, 6), 0.3611996266635937),\n",
       " 36: ((3, 7), 0.3245489616681213),\n",
       " 37: ((3, 8), 0.5124213492012272),\n",
       " 38: ((3, 9), 0.47317899258515533),\n",
       " 39: ((3, 10), 1.0944591481234038),\n",
       " 40: ((4, 0), 0.5210561697082753),\n",
       " 41: ((4, 1), 0.3175311581765495),\n",
       " 42: ((4, 2), 0.42316765305839593),\n",
       " 43: ((4, 3), 1.0343529106800808),\n",
       " 44: ((4, 5), 0.7980200462061037),\n",
       " 45: ((4, 6), 0.7050181438334322),\n",
       " 46: ((4, 7), 1.356112764155261),\n",
       " 47: ((4, 8), 0.5703995375603472),\n",
       " 48: ((4, 9), 0.5637258685309747),\n",
       " 49: ((4, 10), 0.07720024854761205),\n",
       " 50: ((5, 0), 0.2889685407317352),\n",
       " 51: ((5, 1), 0.5133496836030039),\n",
       " 52: ((5, 2), 0.3891939383033919),\n",
       " 53: ((5, 3), 0.28508383365664863),\n",
       " 54: ((5, 4), 0.7980200462061037),\n",
       " 55: ((5, 6), 0.0930115635997988),\n",
       " 56: ((5, 7), 0.5997709208914694),\n",
       " 57: ((5, 8), 0.23908164139648158),\n",
       " 58: ((5, 9), 0.24591438221916234),\n",
       " 59: ((5, 10), 0.865660553709629),\n",
       " 60: ((6, 0), 0.20003185316249483),\n",
       " 61: ((6, 1), 0.42341674311398797),\n",
       " 62: ((6, 2), 0.29885205174560203),\n",
       " 63: ((6, 3), 0.3611996266635937),\n",
       " 64: ((6, 4), 0.7050181438334322),\n",
       " 65: ((6, 5), 0.0930115635997988),\n",
       " 66: ((6, 7), 0.6825271030902548),\n",
       " 67: ((6, 8), 0.1516726895756123),\n",
       " 68: ((6, 9), 0.15727874734286618),\n",
       " 69: ((6, 10), 0.7726997902871393),\n",
       " 70: ((7, 0), 0.8820268713507133),\n",
       " 71: ((7, 1), 1.1027162054860737),\n",
       " 72: ((7, 2), 0.9784779755858195),\n",
       " 73: ((7, 3), 0.3245489616681213),\n",
       " 74: ((7, 4), 1.356112764155261),\n",
       " 75: ((7, 5), 0.5997709208914694),\n",
       " 76: ((7, 6), 0.6825271030902548),\n",
       " 77: ((7, 8), 0.8341997926658671),\n",
       " 78: ((7, 9), 0.7972047903817945),\n",
       " 79: ((7, 10), 1.4142135623730951),\n",
       " 80: ((8, 0), 0.05047034033286324),\n",
       " 81: ((8, 1), 0.27464340474555266),\n",
       " 82: ((8, 2), 0.15141102099859002),\n",
       " 83: ((8, 3), 0.5124213492012272),\n",
       " 84: ((8, 4), 0.5703995375603472),\n",
       " 85: ((8, 5), 0.23908164139648158),\n",
       " 86: ((8, 6), 0.1516726895756123),\n",
       " 87: ((8, 7), 0.8341997926658671),\n",
       " 88: ((8, 9), 0.12461479677668079),\n",
       " 89: ((8, 10), 0.6417374472460705),\n",
       " 90: ((9, 0), 0.13625980676859487),\n",
       " 91: ((9, 1), 0.31594113340759267),\n",
       " 92: ((9, 2), 0.19981501742949104),\n",
       " 93: ((9, 3), 0.47317899258515533),\n",
       " 94: ((9, 4), 0.5637258685309747),\n",
       " 95: ((9, 5), 0.24591438221916234),\n",
       " 96: ((9, 6), 0.15727874734286618),\n",
       " 97: ((9, 7), 0.7972047903817945),\n",
       " 98: ((9, 8), 0.12461479677668079),\n",
       " 99: ((9, 10), 0.627459490683027),\n",
       " 100: ((10, 0), 0.5929810324551671),\n",
       " 101: ((10, 1), 0.39388886706182746),\n",
       " 102: ((10, 2), 0.4964968717714859),\n",
       " 103: ((10, 3), 1.0944591481234038),\n",
       " 104: ((10, 4), 0.07720024854761205),\n",
       " 105: ((10, 5), 0.865660553709629),\n",
       " 106: ((10, 6), 0.7726997902871393),\n",
       " 107: ((10, 7), 1.4142135623730951),\n",
       " 108: ((10, 8), 0.6417374472460705),\n",
       " 109: ((10, 9), 0.627459490683027)}"
      ]
     },
     "execution_count": 84,
     "metadata": {},
     "output_type": "execute_result"
    }
   ],
   "source": [
    "distances"
   ]
  },
  {
   "cell_type": "code",
   "execution_count": 100,
   "metadata": {},
   "outputs": [],
   "source": [
    "singers = PriorityQueue()"
   ]
  },
  {
   "cell_type": "code",
   "execution_count": 101,
   "metadata": {},
   "outputs": [],
   "source": [
    "singers.put((1,'mahdi'))\n",
    "singers.put((2,'amir'))\n",
    "singers.put((4,'ghasem'))\n",
    "singers.put((7,'vali'))"
   ]
  },
  {
   "cell_type": "code",
   "execution_count": null,
   "metadata": {},
   "outputs": [],
   "source": [
    "singers"
   ]
  },
  {
   "cell_type": "code",
   "execution_count": 173,
   "metadata": {},
   "outputs": [],
   "source": [
    "dt = {1:14,2:59,3:88,4:25}"
   ]
  },
  {
   "cell_type": "code",
   "execution_count": 174,
   "metadata": {},
   "outputs": [
    {
     "data": {
      "text/plain": [
       "14"
      ]
     },
     "execution_count": 174,
     "metadata": {},
     "output_type": "execute_result"
    }
   ],
   "source": [
    "dt[1]"
   ]
  },
  {
   "cell_type": "code",
   "execution_count": 230,
   "metadata": {},
   "outputs": [],
   "source": [
    "\n",
    "a = [((1,2),1), (3,4)]\n",
    "d = 0\n",
    "def dis(dt,x,y):\n",
    "    global d\n",
    "    print('d is', d)\n",
    "    print('ins', x,y)\n",
    "    if type(x)== tuple:\n",
    "        print('h1',d)\n",
    "        for j in x:\n",
    "            d += dis(dt,j,y)\n",
    "            print(d)\n",
    "        return d\n",
    "    elif type(y) == tuple:\n",
    "        print('h2',d)\n",
    "        t = 0\n",
    "        for i in y:\n",
    "            h= dis(dt,x,i)\n",
    "            print('h',h,d)\n",
    "            t +=h\n",
    "            print('d',t)\n",
    "        return t\n",
    "    else:\n",
    "        print('h3' ,d)\n",
    "        e = dt[x] - dt[y]\n",
    "        return e\n",
    "    \n",
    "    "
   ]
  },
  {
   "cell_type": "code",
   "execution_count": 231,
   "metadata": {},
   "outputs": [
    {
     "name": "stdout",
     "output_type": "stream",
     "text": [
      "d is 0\n",
      "ins ((1, 2), 1) (3, 4)\n",
      "h1 0\n",
      "d is 0\n",
      "ins (1, 2) (3, 4)\n",
      "h1 0\n",
      "d is 0\n",
      "ins 1 (3, 4)\n",
      "h2 0\n",
      "d is 0\n",
      "ins 1 3\n",
      "h3 0\n",
      "h -74 0\n",
      "d -74\n",
      "d is 0\n",
      "ins 1 4\n",
      "h3 0\n",
      "h -11 0\n",
      "d -85\n",
      "-85\n",
      "d is -85\n",
      "ins 2 (3, 4)\n",
      "h2 -85\n",
      "d is -85\n",
      "ins 2 3\n",
      "h3 -85\n",
      "h -29 -85\n",
      "d -29\n",
      "d is -85\n",
      "ins 2 4\n",
      "h3 -85\n",
      "h 34 -85\n",
      "d 5\n",
      "-80\n",
      "-80\n",
      "d is -80\n",
      "ins 1 (3, 4)\n",
      "h2 -80\n",
      "d is -80\n",
      "ins 1 3\n",
      "h3 -80\n",
      "h -74 -80\n",
      "d -74\n",
      "d is -80\n",
      "ins 1 4\n",
      "h3 -80\n",
      "h -11 -80\n",
      "d -85\n",
      "-165\n"
     ]
    }
   ],
   "source": [
    "r= dis(dt, a[0], a[1])"
   ]
  },
  {
   "cell_type": "code",
   "execution_count": 229,
   "metadata": {},
   "outputs": [
    {
     "data": {
      "text/plain": [
       "-165"
      ]
     },
     "execution_count": 229,
     "metadata": {},
     "output_type": "execute_result"
    }
   ],
   "source": [
    "r"
   ]
  },
  {
   "cell_type": "code",
   "execution_count": 170,
   "metadata": {},
   "outputs": [
    {
     "data": {
      "text/plain": [
       "True"
      ]
     },
     "execution_count": 170,
     "metadata": {},
     "output_type": "execute_result"
    }
   ],
   "source": [
    "n = 5\n",
    "type(a) == list"
   ]
  },
  {
   "cell_type": "code",
   "execution_count": 169,
   "metadata": {},
   "outputs": [
    {
     "data": {
      "text/plain": [
       "list"
      ]
     },
     "execution_count": 169,
     "metadata": {},
     "output_type": "execute_result"
    }
   ],
   "source": [
    "type(a)"
   ]
  },
  {
   "cell_type": "code",
   "execution_count": 172,
   "metadata": {},
   "outputs": [
    {
     "data": {
      "text/plain": [
       "2.0"
      ]
     },
     "execution_count": 172,
     "metadata": {},
     "output_type": "execute_result"
    }
   ],
   "source": [
    "math.sqrt(4)"
   ]
  },
  {
   "cell_type": "code",
   "execution_count": 233,
   "metadata": {},
   "outputs": [],
   "source": [
    "dt = {1:14,2:59,3:88,4:25}"
   ]
  },
  {
   "cell_type": "code",
   "execution_count": 238,
   "metadata": {},
   "outputs": [],
   "source": [
    "def dis2(dt, x, y):\n",
    "    #base\n",
    "    if type(x)== int and type(y)==int:\n",
    "        return dt[x] - dt[y]\n",
    "    \n",
    "    #recursions\n",
    "    elif type(x)==tuple:\n",
    "        d = 0\n",
    "        for i in x:\n",
    "            d += dis2(dt, i, y)\n",
    "        return d\n",
    "    elif type(y)==tuple:\n",
    "        d2 = 0\n",
    "        for j in y:\n",
    "            d2 += dis2(dt,x,j)\n",
    "        return d2\n",
    "    "
   ]
  },
  {
   "cell_type": "code",
   "execution_count": 243,
   "metadata": {},
   "outputs": [
    {
     "data": {
      "text/plain": [
       "-74"
      ]
     },
     "execution_count": 243,
     "metadata": {},
     "output_type": "execute_result"
    }
   ],
   "source": [
    "dis2(dt,1,3)"
   ]
  },
  {
   "cell_type": "code",
   "execution_count": 244,
   "metadata": {},
   "outputs": [
    {
     "data": {
      "text/plain": [
       "-11"
      ]
     },
     "execution_count": 244,
     "metadata": {},
     "output_type": "execute_result"
    }
   ],
   "source": [
    "dis2(dt,1,4)"
   ]
  },
  {
   "cell_type": "code",
   "execution_count": 245,
   "metadata": {},
   "outputs": [
    {
     "data": {
      "text/plain": [
       "-85"
      ]
     },
     "execution_count": 245,
     "metadata": {},
     "output_type": "execute_result"
    }
   ],
   "source": [
    "dis2(dt,1,(3,4))"
   ]
  },
  {
   "cell_type": "code",
   "execution_count": 246,
   "metadata": {},
   "outputs": [
    {
     "data": {
      "text/plain": [
       "-29"
      ]
     },
     "execution_count": 246,
     "metadata": {},
     "output_type": "execute_result"
    }
   ],
   "source": [
    "dis2(dt,2,3)"
   ]
  },
  {
   "cell_type": "code",
   "execution_count": 247,
   "metadata": {},
   "outputs": [
    {
     "data": {
      "text/plain": [
       "34"
      ]
     },
     "execution_count": 247,
     "metadata": {},
     "output_type": "execute_result"
    }
   ],
   "source": [
    "dis2(dt,2,4)"
   ]
  },
  {
   "cell_type": "code",
   "execution_count": 250,
   "metadata": {},
   "outputs": [
    {
     "data": {
      "text/plain": [
       "5"
      ]
     },
     "execution_count": 250,
     "metadata": {},
     "output_type": "execute_result"
    }
   ],
   "source": [
    "dis2(dt,2,(3,4))"
   ]
  },
  {
   "cell_type": "code",
   "execution_count": 253,
   "metadata": {},
   "outputs": [
    {
     "data": {
      "text/plain": [
       "-80"
      ]
     },
     "execution_count": 253,
     "metadata": {},
     "output_type": "execute_result"
    }
   ],
   "source": [
    "dis2(dt,(1,2),(3,4))"
   ]
  },
  {
   "cell_type": "code",
   "execution_count": 254,
   "metadata": {},
   "outputs": [
    {
     "data": {
      "text/plain": [
       "-75"
      ]
     },
     "execution_count": 254,
     "metadata": {},
     "output_type": "execute_result"
    }
   ],
   "source": [
    "dis2(dt,((1,2),2),(3,4))"
   ]
  },
  {
   "cell_type": "code",
   "execution_count": null,
   "metadata": {},
   "outputs": [],
   "source": []
  }
 ],
 "metadata": {
  "kernelspec": {
   "display_name": "Python 3",
   "language": "python",
   "name": "python3"
  },
  "language_info": {
   "codemirror_mode": {
    "name": "ipython",
    "version": 3
   },
   "file_extension": ".py",
   "mimetype": "text/x-python",
   "name": "python",
   "nbconvert_exporter": "python",
   "pygments_lexer": "ipython3",
   "version": "3.7.3"
  }
 },
 "nbformat": 4,
 "nbformat_minor": 2
}
