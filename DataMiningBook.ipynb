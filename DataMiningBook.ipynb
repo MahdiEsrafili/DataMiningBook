{
 "cells": [
  {
   "cell_type": "code",
   "execution_count": 1,
   "metadata": {},
   "outputs": [],
   "source": [
    "import pandas as pd\n",
    "import re\n",
    "from sklearn.preprocessing import MinMaxScaler\n",
    "import numpy as np\n",
    "from queue import PriorityQueue\n",
    "import math"
   ]
  },
  {
   "cell_type": "code",
   "execution_count": 2,
   "metadata": {},
   "outputs": [],
   "source": [
    "data = pd.read_csv('dogs.csv', sep = ',')"
   ]
  },
  {
   "cell_type": "code",
   "execution_count": 3,
   "metadata": {},
   "outputs": [
    {
     "data": {
      "text/plain": [
       "(11, 3)"
      ]
     },
     "execution_count": 3,
     "metadata": {},
     "output_type": "execute_result"
    }
   ],
   "source": [
    "data.shape"
   ]
  },
  {
   "cell_type": "code",
   "execution_count": 4,
   "metadata": {},
   "outputs": [],
   "source": [
    "height = np.array(data['height (inches)'])"
   ]
  },
  {
   "cell_type": "code",
   "execution_count": 5,
   "metadata": {},
   "outputs": [
    {
     "data": {
      "text/plain": [
       "array([[20],\n",
       "       [16],\n",
       "       [18],\n",
       "       [27],\n",
       "       [ 8],\n",
       "       [25],\n",
       "       [23],\n",
       "       [32],\n",
       "       [21],\n",
       "       [19],\n",
       "       [ 6]], dtype=int64)"
      ]
     },
     "execution_count": 5,
     "metadata": {},
     "output_type": "execute_result"
    }
   ],
   "source": [
    "height.reshape([-1,1])"
   ]
  },
  {
   "cell_type": "code",
   "execution_count": 6,
   "metadata": {},
   "outputs": [],
   "source": [
    "normalizer = MinMaxScaler()\n",
    "norm_height = normalizer.fit_transform(height.reshape([-1,1]))"
   ]
  },
  {
   "cell_type": "code",
   "execution_count": 7,
   "metadata": {},
   "outputs": [],
   "source": [
    "data['height (inches)'] = norm_height[:,0]"
   ]
  },
  {
   "cell_type": "code",
   "execution_count": 8,
   "metadata": {},
   "outputs": [],
   "source": [
    "weight= data['weight (pounds)']\n",
    "weight= np.array(weight)\n",
    "weight = weight.reshape([-1,1])\n",
    "weight = normalizer.fit_transform(weight)\n",
    "data['weight (pounds)'] = weight[:,0]"
   ]
  },
  {
   "cell_type": "code",
   "execution_count": 9,
   "metadata": {},
   "outputs": [
    {
     "data": {
      "text/html": [
       "<div>\n",
       "<style scoped>\n",
       "    .dataframe tbody tr th:only-of-type {\n",
       "        vertical-align: middle;\n",
       "    }\n",
       "\n",
       "    .dataframe tbody tr th {\n",
       "        vertical-align: top;\n",
       "    }\n",
       "\n",
       "    .dataframe thead th {\n",
       "        text-align: right;\n",
       "    }\n",
       "</style>\n",
       "<table border=\"1\" class=\"dataframe\">\n",
       "  <thead>\n",
       "    <tr style=\"text-align: right;\">\n",
       "      <th></th>\n",
       "      <th>breed</th>\n",
       "      <th>height (inches)</th>\n",
       "      <th>weight (pounds)</th>\n",
       "    </tr>\n",
       "  </thead>\n",
       "  <tbody>\n",
       "    <tr>\n",
       "      <th>0</th>\n",
       "      <td>Border Collie</td>\n",
       "      <td>0.538462</td>\n",
       "      <td>0.248366</td>\n",
       "    </tr>\n",
       "    <tr>\n",
       "      <th>1</th>\n",
       "      <td>Boston Terrier</td>\n",
       "      <td>0.384615</td>\n",
       "      <td>0.084967</td>\n",
       "    </tr>\n",
       "    <tr>\n",
       "      <th>2</th>\n",
       "      <td>Brittany Spaniel</td>\n",
       "      <td>0.461538</td>\n",
       "      <td>0.183007</td>\n",
       "    </tr>\n",
       "    <tr>\n",
       "      <th>3</th>\n",
       "      <td>Bullmastiff</td>\n",
       "      <td>0.807692</td>\n",
       "      <td>0.738562</td>\n",
       "    </tr>\n",
       "    <tr>\n",
       "      <th>4</th>\n",
       "      <td>Chihuahua</td>\n",
       "      <td>0.076923</td>\n",
       "      <td>0.006536</td>\n",
       "    </tr>\n",
       "  </tbody>\n",
       "</table>\n",
       "</div>"
      ],
      "text/plain": [
       "              breed  height (inches)  weight (pounds)\n",
       "0     Border Collie         0.538462         0.248366\n",
       "1    Boston Terrier         0.384615         0.084967\n",
       "2  Brittany Spaniel         0.461538         0.183007\n",
       "3       Bullmastiff         0.807692         0.738562\n",
       "4         Chihuahua         0.076923         0.006536"
      ]
     },
     "execution_count": 9,
     "metadata": {},
     "output_type": "execute_result"
    }
   ],
   "source": [
    "data.head()"
   ]
  },
  {
   "cell_type": "code",
   "execution_count": 10,
   "metadata": {},
   "outputs": [],
   "source": [
    "data = data.rename(columns={'breed':'breed', 'height (inches)':'height','weight (pounds)':'weight'})"
   ]
  },
  {
   "cell_type": "code",
   "execution_count": 11,
   "metadata": {},
   "outputs": [],
   "source": [
    "class hCluster:\n",
    "\n",
    "    def __init__(self, data):\n",
    "        self.data = data\n",
    "        self.dogs = np.arange(data.shape[0])\n",
    "        self.que = self.init_distance()\n",
    "    def update_que(self): \n",
    "        distances = PriorityQueue()\n",
    "        while self.que.qsize() == 1:\n",
    "            c1 = self.que.get()\n",
    "            for i in range(self.que.qsize()):\n",
    "                d = self.distance(c1, i)\n",
    "    def distance(self,clstr, obj): #write recursively # single linkage\n",
    "        min_d= 0\n",
    "        \n",
    "    def init_distances(self):\n",
    "        distances = PriorityQueue()\n",
    "        dogs = list(range(data.shape[0]))\n",
    "        print(dogs)\n",
    "        for doga in dogs:\n",
    "            tempq = PriorityQueue()\n",
    "            print(\"doga:\", doga)\n",
    "            for dogb in dogs:\n",
    "                print(\"dogb:\", dogb)\n",
    "                if doga>dogb:\n",
    "                    d = math.sqrt((self.data.loc[doga].weight -self.data.loc[dogb].weight )**2 + (self.data.loc[doga].height-self.data.loc[dogb].height)**2)\n",
    "                    tempq.put((d, (doga,dogb)))\n",
    "            #dogs.remove(doga)\n",
    "            print(dogs)\n",
    "            if tempq.qsize()>0:\n",
    "                x = tempq.get()\n",
    "                print(x)\n",
    "                distances.put(x)\n",
    "        return distances\n",
    "                "
   ]
  },
  {
   "cell_type": "code",
   "execution_count": 12,
   "metadata": {},
   "outputs": [],
   "source": [
    "def init_distances():\n",
    "    distances = PriorityQueue()\n",
    "    dogs = list(range(data.shape[0]))\n",
    "    print(dogs)\n",
    "    for doga in dogs:\n",
    "        tempq = PriorityQueue()\n",
    "        print(\"doga:\", doga)\n",
    "        for dogb in dogs:\n",
    "            print(\"dogb:\", dogb)\n",
    "            if doga>dogb:\n",
    "                d = math.sqrt((data.loc[doga].weight -data.loc[dogb].weight )**2 + (data.loc[doga].height-data.loc[dogb].height)**2)\n",
    "                tempq.put((d, (doga,dogb)))\n",
    "        #dogs.remove(doga)\n",
    "        print(dogs)\n",
    "        if tempq.qsize()>0:\n",
    "            x = tempq.get()\n",
    "            print(x)\n",
    "            distances.put(x)\n",
    "    first = distances.get()\n",
    "    a = first[1][0]\n",
    "    b = first[1][1]\n",
    "    print('first', first)\n",
    "    distances = PriorityQueue()\n",
    "    print('first0' , first[0], 'first1', first[1])\n",
    "    distances.put((first[0], (first[1])))\n",
    "    remain = list(range(data.shape[0]))\n",
    "    remain.remove(a)\n",
    "    remain.remove(b)\n",
    "    for r in remain:\n",
    "        distances.put((100,(r,r)))\n",
    "    return distances"
   ]
  },
  {
   "cell_type": "code",
   "execution_count": 35,
   "metadata": {},
   "outputs": [
    {
     "name": "stdout",
     "output_type": "stream",
     "text": [
      "[0, 1, 2, 3, 4, 5, 6, 7, 8, 9, 10]\n",
      "doga: 0\n",
      "dogb: 0\n",
      "dogb: 1\n",
      "dogb: 2\n",
      "dogb: 3\n",
      "dogb: 4\n",
      "dogb: 5\n",
      "dogb: 6\n",
      "dogb: 7\n",
      "dogb: 8\n",
      "dogb: 9\n",
      "dogb: 10\n",
      "[0, 1, 2, 3, 4, 5, 6, 7, 8, 9, 10]\n",
      "doga: 1\n",
      "dogb: 0\n",
      "dogb: 1\n",
      "dogb: 2\n",
      "dogb: 3\n",
      "dogb: 4\n",
      "dogb: 5\n",
      "dogb: 6\n",
      "dogb: 7\n",
      "dogb: 8\n",
      "dogb: 9\n",
      "dogb: 10\n",
      "[0, 1, 2, 3, 4, 5, 6, 7, 8, 9, 10]\n",
      "(0.22442765396764436, (1, 0))\n",
      "doga: 2\n",
      "dogb: 0\n",
      "dogb: 1\n",
      "dogb: 2\n",
      "dogb: 3\n",
      "dogb: 4\n",
      "dogb: 5\n",
      "dogb: 6\n",
      "dogb: 7\n",
      "dogb: 8\n",
      "dogb: 9\n",
      "dogb: 10\n",
      "[0, 1, 2, 3, 4, 5, 6, 7, 8, 9, 10]\n",
      "(0.10094068066572678, (2, 0))\n",
      "doga: 3\n",
      "dogb: 0\n",
      "dogb: 1\n",
      "dogb: 2\n",
      "dogb: 3\n",
      "dogb: 4\n",
      "dogb: 5\n",
      "dogb: 6\n",
      "dogb: 7\n",
      "dogb: 8\n",
      "dogb: 9\n",
      "dogb: 10\n",
      "[0, 1, 2, 3, 4, 5, 6, 7, 8, 9, 10]\n",
      "(0.5592650555953662, (3, 0))\n",
      "doga: 4\n",
      "dogb: 0\n",
      "dogb: 1\n",
      "dogb: 2\n",
      "dogb: 3\n",
      "dogb: 4\n",
      "dogb: 5\n",
      "dogb: 6\n",
      "dogb: 7\n",
      "dogb: 8\n",
      "dogb: 9\n",
      "dogb: 10\n",
      "[0, 1, 2, 3, 4, 5, 6, 7, 8, 9, 10]\n",
      "(0.3175311581765495, (4, 1))\n",
      "doga: 5\n",
      "dogb: 0\n",
      "dogb: 1\n",
      "dogb: 2\n",
      "dogb: 3\n",
      "dogb: 4\n",
      "dogb: 5\n",
      "dogb: 6\n",
      "dogb: 7\n",
      "dogb: 8\n",
      "dogb: 9\n",
      "dogb: 10\n",
      "[0, 1, 2, 3, 4, 5, 6, 7, 8, 9, 10]\n",
      "(0.28508383365664863, (5, 3))\n",
      "doga: 6\n",
      "dogb: 0\n",
      "dogb: 1\n",
      "dogb: 2\n",
      "dogb: 3\n",
      "dogb: 4\n",
      "dogb: 5\n",
      "dogb: 6\n",
      "dogb: 7\n",
      "dogb: 8\n",
      "dogb: 9\n",
      "dogb: 10\n",
      "[0, 1, 2, 3, 4, 5, 6, 7, 8, 9, 10]\n",
      "(0.0930115635997988, (6, 5))\n",
      "doga: 7\n",
      "dogb: 0\n",
      "dogb: 1\n",
      "dogb: 2\n",
      "dogb: 3\n",
      "dogb: 4\n",
      "dogb: 5\n",
      "dogb: 6\n",
      "dogb: 7\n",
      "dogb: 8\n",
      "dogb: 9\n",
      "dogb: 10\n",
      "[0, 1, 2, 3, 4, 5, 6, 7, 8, 9, 10]\n",
      "(0.3245489616681213, (7, 3))\n",
      "doga: 8\n",
      "dogb: 0\n",
      "dogb: 1\n",
      "dogb: 2\n",
      "dogb: 3\n",
      "dogb: 4\n",
      "dogb: 5\n",
      "dogb: 6\n",
      "dogb: 7\n",
      "dogb: 8\n",
      "dogb: 9\n",
      "dogb: 10\n",
      "[0, 1, 2, 3, 4, 5, 6, 7, 8, 9, 10]\n",
      "(0.05047034033286324, (8, 0))\n",
      "doga: 9\n",
      "dogb: 0\n",
      "dogb: 1\n",
      "dogb: 2\n",
      "dogb: 3\n",
      "dogb: 4\n",
      "dogb: 5\n",
      "dogb: 6\n",
      "dogb: 7\n",
      "dogb: 8\n",
      "dogb: 9\n",
      "dogb: 10\n",
      "[0, 1, 2, 3, 4, 5, 6, 7, 8, 9, 10]\n",
      "(0.12461479677668079, (9, 8))\n",
      "doga: 10\n",
      "dogb: 0\n",
      "dogb: 1\n",
      "dogb: 2\n",
      "dogb: 3\n",
      "dogb: 4\n",
      "dogb: 5\n",
      "dogb: 6\n",
      "dogb: 7\n",
      "dogb: 8\n",
      "dogb: 9\n",
      "dogb: 10\n",
      "[0, 1, 2, 3, 4, 5, 6, 7, 8, 9, 10]\n",
      "(0.07720024854761205, (10, 4))\n",
      "first (0.05047034033286324, (8, 0))\n",
      "first0 0.05047034033286324 first1 (8, 0)\n"
     ]
    }
   ],
   "source": [
    "q = init_distances()"
   ]
  },
  {
   "cell_type": "code",
   "execution_count": 34,
   "metadata": {},
   "outputs": [],
   "source": [
    "def updateq(que):\n",
    "    clusters = []\n",
    "    q2= PriorityQueue()\n",
    "    for i in range(que.qsize()):\n",
    "        c = que.get()\n",
    "        q2.put(c)\n",
    "        clusters.append(c)\n",
    "    return clusters, q2\n",
    "        \n",
    "        "
   ]
  },
  {
   "cell_type": "code",
   "execution_count": 61,
   "metadata": {},
   "outputs": [],
   "source": [
    "def dist(c1, c2, dt):\n",
    "    if type(c1) == int and type(c2) == int :\n",
    "        d = math.sqrt((dt.loc[c1].weight - dt.loc[c2].weight)**2 + (dt.loc[c1].height - dt.loc[c2].height)**2)\n",
    "        #print(\"h1\",c1,c2,'dist', d)\n",
    "        return d\n",
    "    elif type(c1) == tuple:\n",
    "        d2 = 0\n",
    "        for obj in c1:\n",
    "            d2 += dist(obj,c2,dt)\n",
    "        #print('h2', c1,c2,'dist',d2)\n",
    "        return d2\n",
    "    elif type(c2) == tuple:\n",
    "        d3 = 0\n",
    "        for obj2 in c2:\n",
    "            d3 += dist(c1,obj2,dt)\n",
    "        #print('h3',c1,c2,'dist', d3)\n",
    "        return d3"
   ]
  },
  {
   "cell_type": "code",
   "execution_count": null,
   "metadata": {},
   "outputs": [],
   "source": []
  }
 ],
 "metadata": {
  "kernelspec": {
   "display_name": "Python 3",
   "language": "python",
   "name": "python3"
  },
  "language_info": {
   "codemirror_mode": {
    "name": "ipython",
    "version": 3
   },
   "file_extension": ".py",
   "mimetype": "text/x-python",
   "name": "python",
   "nbconvert_exporter": "python",
   "pygments_lexer": "ipython3",
   "version": "3.7.3"
  }
 },
 "nbformat": 4,
 "nbformat_minor": 2
}
